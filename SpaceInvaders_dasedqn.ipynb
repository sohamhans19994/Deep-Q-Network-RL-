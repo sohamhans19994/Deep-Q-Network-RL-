{
 "cells": [
  {
   "cell_type": "code",
   "execution_count": 1,
   "metadata": {},
   "outputs": [],
   "source": [
    "import torch\n",
    "import torch.nn as nn\n",
    "import torch.optim as optim\n",
    "import numpy as np\n",
    "import torch.nn.functional as F\n",
    "import gym\n",
    "import random\n",
    "from collections import namedtuple, deque\n",
    "import matplotlib.pyplot as plt\n",
    "%matplotlib inline"
   ]
  },
  {
   "cell_type": "code",
   "execution_count": 2,
   "metadata": {},
   "outputs": [
    {
     "name": "stdout",
     "output_type": "stream",
     "text": [
      "State shape:  (210, 160, 3)\n",
      "Actions:  6\n"
     ]
    }
   ],
   "source": [
    "env = gym.make('SpaceInvaders-v0')\n",
    "env.reset()\n",
    "env.seed(0)\n",
    "STATE_SIZE = env.observation_space.shape\n",
    "ACTION_SIZE = env.action_space.n\n",
    "print(\"State shape: \",env.observation_space.shape)\n",
    "print(\"Actions: \",env.action_space.n)"
   ]
  },
  {
   "cell_type": "code",
   "execution_count": 6,
   "metadata": {},
   "outputs": [],
   "source": [
    "BUFFER_SIZE = int(1e3)  # replay buffer size\n",
    "BATCH_SIZE = 16         # minibatch size\n",
    "GAMMA = 0.99            # discount factor\n",
    "TAU = 1e-3              # for soft update of target parameters\n",
    "LR = 5e-4               # learning rate \n",
    "UPDATE_EVERY = 4        # how often to update the network\n",
    "device = torch.device(\"cuda:0\" if torch.cuda.is_available() else \"cpu\")"
   ]
  },
  {
   "cell_type": "code",
   "execution_count": 4,
   "metadata": {},
   "outputs": [
    {
     "name": "stdout",
     "output_type": "stream",
     "text": [
      "cuda:0\n"
     ]
    }
   ],
   "source": [
    "print(device)"
   ]
  },
  {
   "cell_type": "code",
   "execution_count": 5,
   "metadata": {},
   "outputs": [],
   "source": [
    "class BaseDQN(nn.Module):\n",
    "    def __init__(self,state_size,action_size,seed,fc1_units = 64,fc2_units = 32):\n",
    "        super(BaseDQN,self).__init__()\n",
    "        self.seed = torch.manual_seed(seed)\n",
    "        #fc1_in_units = int((((210-2)/2-2)/2)),int((((160-2)/2-2)/2)),int(16)\n",
    "        self.conv1 = nn.Conv2d(3,16,3,padding=(0,1))\n",
    "        self.maxpool = nn.MaxPool2d(2)\n",
    "        self.conv2 = nn.Conv2d(16,8,3,padding=(0,1))\n",
    "        self.fc1 = nn.Linear(8*51*40,fc1_units)\n",
    "        self.fc2 = nn.Linear(fc1_units,fc2_units)\n",
    "        self.fc3 = nn.Linear(fc2_units,action_size)\n",
    "    def forward(self,state):\n",
    "        #state = state.reshape([1,3,210,160])\n",
    "        #print(state.shape)\n",
    "        state = state.view(max(int(state.size(0)/210),1),3,210,160)\n",
    "        x = self.maxpool(F.relu(self.conv1(state)))\n",
    "        x = self.maxpool(F.relu(self.conv2(x)))\n",
    "        x = x.view(x.size(0), -1)\n",
    "        x = F.relu(self.fc1(x))\n",
    "        x = F.relu(self.fc2(x))\n",
    "        return self.fc3(x)"
   ]
  },
  {
   "cell_type": "code",
   "execution_count": 7,
   "metadata": {},
   "outputs": [],
   "source": [
    "class ReplayBuffer:\n",
    "    def __init__(self,action_size,buffer_size,batch_size,seed):\n",
    "        self.action_size = action_size\n",
    "        self.memory = deque(maxlen = buffer_size)\n",
    "        self.batch_size = batch_size\n",
    "        self.experience = namedtuple(\"Experience\", field_names = [\"state\",\"action\",\"reward\",\"next_state\",\"done\"])\n",
    "        self.seed = random.seed(seed)\n",
    "    \n",
    "    def add(self, state, action, reward, next_state, done):\n",
    "        e = self.experience(state, action, reward, next_state, done)\n",
    "        self.memory.append(e)\n",
    "    \n",
    "    def sample(self):\n",
    "        experiences = random.sample(self.memory, k = self.batch_size)\n",
    "        states = torch.from_numpy(np.vstack([e.state for e in experiences if e is not None])).float().to(device)\n",
    "        actions = torch.from_numpy(np.vstack([e.action for e in experiences if e is not None])).long().to(device)\n",
    "        rewards = torch.from_numpy(np.vstack([e.reward for e in experiences if e is not None])).float().to(device)\n",
    "        next_states = torch.from_numpy(np.vstack([e.next_state for e in experiences if e is not None])).float().to(device)\n",
    "        dones = torch.from_numpy(np.vstack([e.done for e in experiences if e is not None]).astype(np.uint8)).float().to(device)\n",
    "        return states,actions,rewards,next_states,dones\n",
    "    def __len__(self):\n",
    "        return len(self.memory)      "
   ]
  },
  {
   "cell_type": "code",
   "execution_count": 8,
   "metadata": {},
   "outputs": [],
   "source": [
    "class Agent():\n",
    "    def __init__(self,state_size,action_size,seed):\n",
    "        self.state_size = state_size\n",
    "        self.action_size = action_size\n",
    "        self.seed = seed\n",
    "        self.basedqn_local = BaseDQN(state_size,action_size,seed).to(device)\n",
    "        self.basedqn_target = BaseDQN(state_size,action_size,seed).to(device)\n",
    "        self.optimizer = optim.Adam(self.basedqn_local.parameters(), lr = LR)\n",
    "        self.memory = ReplayBuffer(action_size,BUFFER_SIZE,BATCH_SIZE,seed)\n",
    "        self.t_step = 0\n",
    "    \n",
    "    def step(self,state,action,reward,next_state,done):\n",
    "        self.memory.add(state, action, reward, next_state, done)\n",
    "        self.t_step = (self.t_step+1)%UPDATE_EVERY\n",
    "        if self.t_step == 0:\n",
    "            if len(self.memory.memory) >= BATCH_SIZE:\n",
    "                experiences = self.memory.sample()\n",
    "                self.learn(experiences,GAMMA)\n",
    "    \n",
    "    def act(self,state,eps = 0):\n",
    "        state = torch.from_numpy(state).float().unsqueeze(0).to(device)\n",
    "        self.basedqn_local.eval()\n",
    "        with torch.no_grad():\n",
    "            action_values = self.basedqn_local(state)\n",
    "        self.basedqn_local.train()\n",
    "        \n",
    "        if random.random() > eps:\n",
    "            return np.argmax(action_values.cpu().data.numpy())\n",
    "        else:\n",
    "            return random.choice(np.arange(self.action_size))\n",
    "        \n",
    "    def learn(self,experiences,gamma):\n",
    "        states, actions, rewards, next_states, dones = experiences\n",
    "        #print(next_states.shape)\n",
    "        Q_targets_next = self.basedqn_target(next_states).detach().max(1)[0].unsqueeze(1)\n",
    "        #print(\"t_step = \",self.t_step, end=\"\")\n",
    "        Q_targets = rewards + gamma*(Q_targets_next*(1-dones))\n",
    "        Q_expected = self.basedqn_local(states).gather(1,actions)\n",
    "        loss = F.mse_loss(Q_expected,Q_targets)\n",
    "        self.optimizer.zero_grad()\n",
    "        loss.backward()\n",
    "        self.optimizer.step()\n",
    "    \n",
    "        self.soft_update(self.basedqn_local,self.basedqn_target,TAU)\n",
    "        \n",
    "    def soft_update(self,local_model,target_model,tau):\n",
    "        for target_param, local_param in zip(target_model.parameters(), local_model.parameters()):\n",
    "            target_param.data.copy_(tau*local_param.data + (1.0-tau)*target_param.data)\n",
    "    "
   ]
  },
  {
   "cell_type": "code",
   "execution_count": 9,
   "metadata": {},
   "outputs": [],
   "source": [
    "agent = Agent(state_size=(210, 160, 3), action_size=2, seed=0)\n",
    "#print(agent)\n",
    "state = env.reset()\n",
    "for j in range(200):\n",
    "    action = agent.act(state)\n",
    "    env.render()\n",
    "    state,reward,done,_ = env.step(action)\n",
    "    if done:\n",
    "        break"
   ]
  },
  {
   "cell_type": "code",
   "execution_count": null,
   "metadata": {},
   "outputs": [
    {
     "name": "stdout",
     "output_type": "stream",
     "text": [
      "Episode 100\tAverage Score: 234.20\n",
      "Episode 180\tAverage Score: 240.10"
     ]
    }
   ],
   "source": [
    "def basedqn(n_episodes=2000, max_t=1000, eps_start=1.0, eps_end=0.01, eps_decay=0.995):\n",
    "    scores = []\n",
    "    scores_window = deque(maxlen = 100)\n",
    "    eps = eps_start\n",
    "    for i_episode in range(1,n_episodes+1):\n",
    "        state = env.reset()\n",
    "        score = 0\n",
    "        for t in range(max_t):\n",
    "            action = agent.act(state,eps)\n",
    "            next_state,reward,done,_ = env.step(action)\n",
    "            agent.step(state,action,reward,next_state,done)\n",
    "            state = next_state\n",
    "            score += reward\n",
    "            if done:\n",
    "                break\n",
    "        scores_window.append(score)\n",
    "        scores.append(score)\n",
    "        eps = max(eps_end,eps_decay*eps)\n",
    "        print('\\rEpisode {}\\tAverage Score: {:.2f}'.format(i_episode, np.mean(scores_window)), end=\"\")\n",
    "        if i_episode % 100 == 0:\n",
    "            print('\\rEpisode {}\\tAverage Score: {:.2f}'.format(i_episode, np.mean(scores_window)))\n",
    "        if np.mean(scores_window)>=300.0:\n",
    "            print('\\nEnvironment solved in {:d} episodes!\\tAverage Score: {:.2f}'.format(i_episode-100, np.mean(scores_window)))\n",
    "            break\n",
    "    torch.save(agent.basedqn_local.state_dict(), 'checkpoint.pth')\n",
    "    return scores\n",
    "\n",
    "scores = basedqn()\n",
    "fig = plt.figure()\n",
    "ax = fig.add_subplot(111)\n",
    "plt.plot(np.arange(len(scores)),scores)\n",
    "plt.ylabel('Score')\n",
    "plt.xlabel('Episode #')\n",
    "plt.show()"
   ]
  },
  {
   "cell_type": "code",
   "execution_count": null,
   "metadata": {},
   "outputs": [],
   "source": []
  }
 ],
 "metadata": {
  "kernelspec": {
   "display_name": "Python 3",
   "language": "python",
   "name": "python3"
  },
  "language_info": {
   "codemirror_mode": {
    "name": "ipython",
    "version": 3
   },
   "file_extension": ".py",
   "mimetype": "text/x-python",
   "name": "python",
   "nbconvert_exporter": "python",
   "pygments_lexer": "ipython3",
   "version": "3.6.9"
  }
 },
 "nbformat": 4,
 "nbformat_minor": 2
}
