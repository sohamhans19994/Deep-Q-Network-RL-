{
 "cells": [
  {
   "cell_type": "code",
   "execution_count": 5,
   "metadata": {},
   "outputs": [
    {
     "name": "stderr",
     "output_type": "stream",
     "text": [
      "[2020-04-17 12:57:30,425] Making new env: MountainCarContinuous-v0\n",
      "/home/soham/.local/lib/python3.6/site-packages/gym/envs/registration.py:17: PkgResourcesDeprecationWarning: Parameters to load are deprecated.  Call .resolve and .require separately.\n",
      "  result = entry_point.load(False)\n"
     ]
    }
   ],
   "source": [
    "import gym\n",
    "env = gym.envs.make(\"MountainCarContinuous-v0\") "
   ]
  },
  {
   "cell_type": "code",
   "execution_count": 6,
   "metadata": {},
   "outputs": [
    {
     "data": {
      "text/plain": [
       "array([-0.21213569,  0.03012651])"
      ]
     },
     "execution_count": 6,
     "metadata": {},
     "output_type": "execute_result"
    }
   ],
   "source": [
    "env.observation_space.sample()"
   ]
  },
  {
   "cell_type": "code",
   "execution_count": 7,
   "metadata": {},
   "outputs": [
    {
     "data": {
      "text/plain": [
       "array([-0.59724516,  0.        ])"
      ]
     },
     "execution_count": 7,
     "metadata": {},
     "output_type": "execute_result"
    }
   ],
   "source": [
    "initial_state = env.reset()\n",
    "initial_state"
   ]
  },
  {
   "cell_type": "code",
   "execution_count": 8,
   "metadata": {},
   "outputs": [
    {
     "data": {
      "text/plain": [
       "(array([-0.5959473 ,  0.00129787]), -0.025, False, {})"
      ]
     },
     "execution_count": 8,
     "metadata": {},
     "output_type": "execute_result"
    }
   ],
   "source": [
    "import numpy as np\n",
    "test_action = np.array([0.5])\n",
    "env.step(test_action)"
   ]
  },
  {
   "cell_type": "code",
   "execution_count": 23,
   "metadata": {},
   "outputs": [],
   "source": [
    "import torch\n",
    "import torch.nn as nn\n",
    "import torch.nn.functional as F\n",
    "from torch.distributions import Normal\n",
    "import torch.optim as optim\n",
    "import random\n",
    "import copy\n",
    "from collections import namedtuple, deque\n",
    "import matplotlib.pyplot as plt"
   ]
  },
  {
   "cell_type": "code",
   "execution_count": 10,
   "metadata": {},
   "outputs": [],
   "source": [
    "norm = Normal(torch.tensor([4.0]), torch.tensor([0.5]))"
   ]
  },
  {
   "cell_type": "code",
   "execution_count": 11,
   "metadata": {},
   "outputs": [
    {
     "data": {
      "text/plain": [
       "tensor([5.2487])"
      ]
     },
     "execution_count": 11,
     "metadata": {},
     "output_type": "execute_result"
    }
   ],
   "source": [
    "norm.sample()"
   ]
  },
  {
   "cell_type": "code",
   "execution_count": 15,
   "metadata": {},
   "outputs": [],
   "source": [
    "import tensorflow as tf\n",
    "norm1 = tf.contrib.distributions.Normal(4.0, 0.5)"
   ]
  },
  {
   "cell_type": "code",
   "execution_count": 18,
   "metadata": {},
   "outputs": [
    {
     "data": {
      "text/plain": [
       "<tf.Tensor 'Normal_2/sample/Reshape:0' shape=(1,) dtype=float32>"
      ]
     },
     "execution_count": 18,
     "metadata": {},
     "output_type": "execute_result"
    }
   ],
   "source": [
    "norm1.sample(1)"
   ]
  },
  {
   "cell_type": "code",
   "execution_count": 12,
   "metadata": {},
   "outputs": [],
   "source": [
    "class Critic(nn.Module):\n",
    "    def __init__(self):\n",
    "        super(Critic, self).__init__()\n",
    "        n_hidden1 = 400\n",
    "        n_hidden2 = 400\n",
    "        n_out = 1\n",
    "        self.size = 2\n",
    "        self.fc1 = nn.Linear(self.size, n_hidden1)\n",
    "        self.fc2 = nn.Linear(n_hidden1, n_hidden2)\n",
    "        self.fc3 = nn.Linear(n_hidden2,n_out)\n",
    "        #self.sig = nn.Sigmoid()\n",
    "        \n",
    "    def forward(self, x):\n",
    "        x = F.relu(self.fc1(x))  \n",
    "        x = F.relu(self.fc2(x))  \n",
    "        x = self.fc3(x)\n",
    "        return x\n",
    "    \n",
    "class Actor(nn.Module):\n",
    "    def __init__(self):\n",
    "        super(Actor,self).__init__()\n",
    "        n_hidden1 = 40;\n",
    "        n_hidden2 = 40\n",
    "        n_out = 1\n",
    "        self.size = 2\n",
    "        self.fc1 = nn.Linear(self.size,n_hidden1)\n",
    "        self.fc2 = nn.Linear(n_hidden1, n_hidden2)\n",
    "        self.fc3 = nn.Linear(n_hidden2,n_out)\n",
    "        self.fc4 = nn.Linear(n_hidden2,n_out)\n",
    "    \n",
    "    def forward(self,state):\n",
    "        x = F.relu(self.fc1(state))\n",
    "        x = F.relu(self.fc2(x))\n",
    "        mu = self.fc3(x)\n",
    "        sigma = self.fc3(x)\n",
    "        norm_dist = Normal(mu,sigma)\n",
    "        action = norm_dist.sample()\n",
    "        action = torch.clamp(action, env.action_space.low[0], env.action_space.high[0], out=None)\n",
    "        return action,norm_dist"
   ]
  },
  {
   "cell_type": "code",
   "execution_count": 2,
   "metadata": {},
   "outputs": [],
   "source": [
    "device = torch.device(\"cuda:0\" if torch.cuda.is_available() else \"cpu\")"
   ]
  },
  {
   "cell_type": "code",
   "execution_count": 4,
   "metadata": {},
   "outputs": [
    {
     "data": {
      "text/plain": [
       "device(type='cuda', index=0)"
      ]
     },
     "execution_count": 4,
     "metadata": {},
     "output_type": "execute_result"
    }
   ],
   "source": [
    "device"
   ]
  },
  {
   "cell_type": "code",
   "execution_count": 13,
   "metadata": {},
   "outputs": [],
   "source": [
    "BUFFER_SIZE = int(1e5)  # replay buffer size\n",
    "BATCH_SIZE = 128        # minibatch size\n",
    "GAMMA = 0.99            # discount factor\n",
    "TAU = 1e-3              # for soft update of target parameters\n",
    "LR_ACTOR = 1e-4         # learning rate of the actor \n",
    "LR_CRITIC = 1e-3        # learning rate of the critic\n",
    "WEIGHT_DECAY = 0        # L2 weight decay"
   ]
  },
  {
   "cell_type": "code",
   "execution_count": 60,
   "metadata": {},
   "outputs": [],
   "source": [
    "import sklearn\n",
    "import sklearn.preprocessing\n",
    "\n",
    "state_space_samples = np.array(\n",
    "    [env.observation_space.sample() for x in range(10000)])\n",
    "scaler = sklearn.preprocessing.StandardScaler()\n",
    "scaler.fit(state_space_samples)\n",
    "\n",
    "#function to normalize states\n",
    "def scale_state(state):                  #requires input shape=(2,)\n",
    "    scaled = scaler.transform([state])\n",
    "    return scaled"
   ]
  },
  {
   "cell_type": "code",
   "execution_count": 14,
   "metadata": {},
   "outputs": [],
   "source": [
    "class OUNoise:\n",
    "    \"\"\"Ornstein-Uhlenbeck process.\"\"\"\n",
    "\n",
    "    def __init__(self, size, seed, mu=0., theta=0.15, sigma=0.2):\n",
    "        \"\"\"Initialize parameters and noise process.\"\"\"\n",
    "        self.mu = mu * np.ones(size)\n",
    "        self.theta = theta\n",
    "        self.sigma = sigma\n",
    "        self.seed = random.seed(seed)\n",
    "        self.reset()\n",
    "\n",
    "    def reset(self):\n",
    "        \"\"\"Reset the internal state (= noise) to mean (mu).\"\"\"\n",
    "        self.state = copy.copy(self.mu)\n",
    "\n",
    "    def sample(self):\n",
    "        \"\"\"Update internal state and return it as a noise sample.\"\"\"\n",
    "        x = self.state\n",
    "        dx = self.theta * (self.mu - x) + self.sigma * np.array([random.random() for i in range(len(x))])\n",
    "        self.state = x + dx\n",
    "        return self.state\n",
    "\n",
    "class ReplayBuffer:\n",
    "    \"\"\"Fixed-size buffer to store experience tuples.\"\"\"\n",
    "\n",
    "    def __init__(self, action_size, buffer_size, batch_size, seed):\n",
    "        \"\"\"Initialize a ReplayBuffer object.\n",
    "        Params\n",
    "        ======\n",
    "            buffer_size (int): maximum size of buffer\n",
    "            batch_size (int): size of each training batch\n",
    "        \"\"\"\n",
    "        self.action_size = action_size\n",
    "        self.memory = deque(maxlen=buffer_size)  # internal memory (deque)\n",
    "        self.batch_size = batch_size\n",
    "        self.experience = namedtuple(\"Experience\", field_names=[\"state\", \"action\", \"reward\", \"next_state\", \"done\"])\n",
    "        self.seed = random.seed(seed)\n",
    "    \n",
    "    def add(self, state, action, reward, next_state, done):\n",
    "        \"\"\"Add a new experience to memory.\"\"\"\n",
    "        e = self.experience(state, action, reward, next_state, done)\n",
    "        self.memory.append(e)\n",
    "    \n",
    "    def sample(self):\n",
    "        \"\"\"Randomly sample a batch of experiences from memory.\"\"\"\n",
    "        experiences = random.sample(self.memory, k=self.batch_size)\n",
    "\n",
    "        states = torch.from_numpy(np.vstack([e.state for e in experiences if e is not None])).float().to(device)\n",
    "        actions = torch.from_numpy(np.vstack([e.action for e in experiences if e is not None])).float().to(device)\n",
    "        rewards = torch.from_numpy(np.vstack([e.reward for e in experiences if e is not None])).float().to(device)\n",
    "        next_states = torch.from_numpy(np.vstack([e.next_state for e in experiences if e is not None])).float().to(device)\n",
    "        dones = torch.from_numpy(np.vstack([e.done for e in experiences if e is not None]).astype(np.uint8)).float().to(device)\n",
    "\n",
    "        return (states, actions, rewards, next_states, dones)\n",
    "\n",
    "    def __len__(self):\n",
    "        \"\"\"Return the current size of internal memory.\"\"\"\n",
    "        return len(self.memory)"
   ]
  },
  {
   "cell_type": "code",
   "execution_count": 37,
   "metadata": {},
   "outputs": [],
   "source": [
    "def weight_reset(m):\n",
    "    if isinstance(m, nn.Conv2d) or isinstance(m, nn.Linear):\n",
    "        m.reset_parameters()\n",
    "def weight_init(m):\n",
    "    classname = m.__class__.__name__\n",
    "    if classname.find('Conv') != -1:\n",
    "        xavier(m.weight.data)\n",
    "        xavier(m.bias.data)"
   ]
  },
  {
   "cell_type": "code",
   "execution_count": 57,
   "metadata": {},
   "outputs": [],
   "source": [
    "class Agent():\n",
    "    def __init__(self):\n",
    "        self.state_size = 2\n",
    "        self.action_size = 1\n",
    "        #self.seed = random.seed(random_seed)\n",
    "        self.actor_local = Actor().to(device)\n",
    "        self.actor_target = Actor().to(device)\n",
    "        self.actor_optimizer = optim.Adam(self.actor_local.parameters(), lr=LR_ACTOR)\n",
    "        \n",
    "        self.critic_local = Critic().to(device)\n",
    "        self.critic_target = Critic().to(device)\n",
    "        self.critic_optimizer = optim.Adam(self.critic_local.parameters(), lr=LR_CRITIC, weight_decay=WEIGHT_DECAY)\n",
    "        \n",
    "        # Noise process\n",
    "        self.noise = OUNoise(self.action_size, 2)\n",
    "\n",
    "        # Replay memory\n",
    "        self.memory = ReplayBuffer(self.action_size, BUFFER_SIZE, BATCH_SIZE, 2)\n",
    "    def step(self, state, action, reward, next_state, done):\n",
    "        \"\"\"Save experience in replay memory, and use random sample from buffer to learn.\"\"\"\n",
    "        # Save experience / reward\n",
    "        self.memory.add(scale_state(state), action, reward, scale_state(next_state), done)\n",
    "\n",
    "        # Learn, if enough samples are available in memory\n",
    "        if len(self.memory) > BATCH_SIZE:\n",
    "            experiences = self.memory.sample()\n",
    "            self.learn(experiences, GAMMA)\n",
    "    def reset(self):\n",
    "        self.noise.reset()\n",
    "        self.actor_local.apply(weight_reset)\n",
    "        self.actor_target.apply(weight_reset)\n",
    "        self.critic_local.apply(weight_reset)\n",
    "        self.critic_target.apply(weight_reset)\n",
    "        #self.actor_optimizer.apply(weight_reset)\n",
    "        #self.critic_optimizer.apply(weight_reset)\n",
    "        self.actor_local.apply(weight_init)\n",
    "        self.actor_target.apply(weight_init)\n",
    "        self.critic_local.apply(weight_init)\n",
    "        self.critic_target.apply(weight_init)\n",
    "        #self.actor_optimizer.apply(weight_init)\n",
    "        #self.critic_optimizer.apply(weight_init)\n",
    "    def act(self, state, add_noise=True):\n",
    "        \"\"\"Returns actions for given state as per current policy.\"\"\"\n",
    "        state = torch.from_numpy(state).float().to(device)\n",
    "        self.actor_local.eval()\n",
    "        with torch.no_grad():\n",
    "            action = self.actor_local(state)[0].cpu().data.numpy()\n",
    "        self.actor_local.train()\n",
    "        if add_noise:\n",
    "            action += self.noise.sample()\n",
    "        return np.clip(action, -1, 1)\n",
    "    def learn(self, experiences, gamma):\n",
    "        \"\"\"Update policy and value parameters using given batch of experience tuples.\n",
    "        Q_targets = r + γ * critic_target(next_state, actor_target(next_state))\n",
    "        where:\n",
    "            actor_target(state) -> action\n",
    "            critic_target(state, action) -> Q-value\n",
    "\n",
    "        Params\n",
    "        ======\n",
    "            experiences (Tuple[torch.Tensor]): tuple of (s, a, r, s', done) tuples \n",
    "            gamma (float): discount factor\n",
    "        \"\"\"\n",
    "        states, actions, rewards, next_states, dones = experiences\n",
    "\n",
    "        # ---------------------------- update critic ---------------------------- #\n",
    "        # Get predicted next-state actions and Q values from target models\n",
    "        Q_targets_next = self.critic_target(next_states)\n",
    "        # Compute Q targets for current states (y_i)\n",
    "        Q_targets = rewards + (gamma * Q_targets_next * (1 - dones))\n",
    "        # Compute critic los\n",
    "        Q_expected = self.critic_local(states)\n",
    "        td_error = Q_targets - Q_expected\n",
    "        critic_loss = F.mse_loss(Q_expected, Q_targets)\n",
    "        # Minimize the loss\n",
    "        self.critic_optimizer.zero_grad()\n",
    "        critic_loss.backward(retain_graph=True)\n",
    "        self.critic_optimizer.step()\n",
    "\n",
    "        # ---------------------------- update actor ---------------------------- #\n",
    "        # Compute actor loss\n",
    "        actions_pred,norm_dist = self.actor_local(states)\n",
    "        actor_loss = -(norm_dist.log_prob(actions_pred)*td_error).mean()\n",
    "        #print(actor_loss)\n",
    "        # Minimize the loss\n",
    "        self.actor_optimizer.zero_grad()\n",
    "        actor_loss.backward(retain_graph=True)\n",
    "        self.actor_optimizer.step()\n",
    "\n",
    "        # ----------------------- update target networks ----------------------- #\n",
    "        self.soft_update(self.critic_local, self.critic_target, TAU)\n",
    "        self.soft_update(self.actor_local, self.actor_target, TAU)                     \n",
    "\n",
    "    def soft_update(self, local_model, target_model, tau):\n",
    "        \"\"\"Soft update model parameters.\n",
    "        θ_target = τ*θ_local + (1 - τ)*θ_target\n",
    "\n",
    "        Params\n",
    "        ======\n",
    "            local_model: PyTorch model (weights will be copied from)\n",
    "            target_model: PyTorch model (weights will be copied to)\n",
    "            tau (float): interpolation parameter \n",
    "        \"\"\"\n",
    "        for target_param, local_param in zip(target_model.parameters(), local_model.parameters()):\n",
    "            target_param.data.copy_(tau*local_param.data + (1.0-tau)*target_param.data)"
   ]
  },
  {
   "cell_type": "code",
   "execution_count": 58,
   "metadata": {},
   "outputs": [],
   "source": [
    "agent = Agent()"
   ]
  },
  {
   "cell_type": "code",
   "execution_count": 24,
   "metadata": {},
   "outputs": [],
   "source": []
  },
  {
   "cell_type": "code",
   "execution_count": null,
   "metadata": {},
   "outputs": [
    {
     "name": "stdout",
     "output_type": "stream",
     "text": [
      "Episode 25\tAverage Score: -13.35restarting\n",
      "Episode 25\tAverage Score: -13.06restarting\n",
      "Episode 25\tAverage Score: -12.52restarting\n",
      "Episode 25\tAverage Score: -13.80restarting\n",
      "Episode 25\tAverage Score: -13.76restarting\n",
      "Episode 25\tAverage Score: -15.58restarting\n",
      "Episode 25\tAverage Score: -13.67restarting\n",
      "Episode 25\tAverage Score: -13.49restarting\n",
      "Episode 25\tAverage Score: -15.03restarting\n",
      "Episode 25\tAverage Score: -13.12restarting\n",
      "Episode 25\tAverage Score: -13.42restarting\n",
      "Episode 25\tAverage Score: -14.49restarting\n",
      "Episode 25\tAverage Score: -15.50restarting\n",
      "Episode 25\tAverage Score: -13.21restarting\n",
      "Episode 25\tAverage Score: -14.00restarting\n",
      "Episode 25\tAverage Score: -13.28restarting\n",
      "Episode 25\tAverage Score: -13.77restarting\n",
      "Episode 25\tAverage Score: -13.01restarting\n",
      "Episode 25\tAverage Score: -13.46restarting\n",
      "Episode 25\tAverage Score: -14.55restarting\n",
      "Episode 25\tAverage Score: -14.71restarting\n",
      "Episode 25\tAverage Score: -15.39restarting\n",
      "Episode 25\tAverage Score: -14.24restarting\n",
      "Episode 25\tAverage Score: -13.16restarting\n",
      "Episode 25\tAverage Score: -14.15restarting\n",
      "Episode 25\tAverage Score: -14.10restarting\n",
      "Episode 25\tAverage Score: -14.02restarting\n",
      "Episode 25\tAverage Score: -13.22restarting\n",
      "Episode 25\tAverage Score: -12.09restarting\n",
      "Episode 25\tAverage Score: -12.68restarting\n",
      "Episode 25\tAverage Score: -12.72restarting\n",
      "Episode 25\tAverage Score: -13.70restarting\n",
      "Episode 25\tAverage Score: -14.10restarting\n",
      "Episode 25\tAverage Score: -12.45restarting\n",
      "Episode 25\tAverage Score: -13.63restarting\n",
      "Episode 25\tAverage Score: -14.79restarting\n",
      "Episode 25\tAverage Score: -13.29restarting\n",
      "Episode 25\tAverage Score: -13.92restarting\n",
      "Episode 25\tAverage Score: -13.57restarting\n",
      "Episode 25\tAverage Score: -14.61restarting\n",
      "Episode 25\tAverage Score: -14.53restarting\n",
      "Episode 25\tAverage Score: -14.92restarting\n",
      "Episode 25\tAverage Score: -13.87restarting\n",
      "Episode 25\tAverage Score: -12.70restarting\n",
      "Episode 25\tAverage Score: -14.66restarting\n",
      "Episode 25\tAverage Score: -15.03restarting\n",
      "Episode 25\tAverage Score: -14.32restarting\n",
      "Episode 25\tAverage Score: -14.57restarting\n",
      "Episode 25\tAverage Score: -13.57restarting\n",
      "Episode 25\tAverage Score: -14.13restarting\n",
      "Episode 25\tAverage Score: -13.05restarting\n",
      "Episode 25\tAverage Score: -14.01restarting\n",
      "Episode 25\tAverage Score: -13.57restarting\n",
      "Episode 25\tAverage Score: -14.25restarting\n",
      "Episode 25\tAverage Score: -16.94restarting\n",
      "Episode 25\tAverage Score: -16.14restarting\n",
      "Episode 25\tAverage Score: -12.43restarting\n",
      "Episode 25\tAverage Score: -11.86restarting\n",
      "Episode 25\tAverage Score: -14.25restarting\n",
      "Episode 25\tAverage Score: -15.74restarting\n",
      "Episode 25\tAverage Score: -12.86restarting\n",
      "Episode 25\tAverage Score: -14.50restarting\n",
      "Episode 25\tAverage Score: -14.47restarting\n",
      "Episode 25\tAverage Score: -14.83restarting\n",
      "Episode 25\tAverage Score: -13.95restarting\n",
      "Episode 25\tAverage Score: -12.93restarting\n",
      "Episode 25\tAverage Score: -13.97restarting\n",
      "Episode 25\tAverage Score: -14.06restarting\n",
      "Episode 25\tAverage Score: -14.18restarting\n",
      "Episode 25\tAverage Score: -13.47restarting\n",
      "Episode 25\tAverage Score: -14.56restarting\n",
      "Episode 25\tAverage Score: -12.97restarting\n",
      "Episode 25\tAverage Score: -14.89restarting\n",
      "Episode 25\tAverage Score: -13.80restarting\n",
      "Episode 25\tAverage Score: -12.10restarting\n",
      "Episode 25\tAverage Score: -13.22restarting\n",
      "Episode 25\tAverage Score: -14.93restarting\n",
      "Episode 25\tAverage Score: -12.98restarting\n",
      "Episode 25\tAverage Score: -13.41restarting\n",
      "Episode 25\tAverage Score: -13.64restarting\n",
      "Episode 25\tAverage Score: -14.07restarting\n",
      "Episode 25\tAverage Score: -13.34restarting\n",
      "Episode 25\tAverage Score: -14.05restarting\n",
      "Episode 25\tAverage Score: -13.97restarting\n",
      "Episode 25\tAverage Score: -14.01restarting\n",
      "Episode 25\tAverage Score: -13.54restarting\n",
      "Episode 25\tAverage Score: -14.05restarting\n",
      "Episode 25\tAverage Score: -12.45restarting\n",
      "Episode 25\tAverage Score: -16.21restarting\n",
      "Episode 25\tAverage Score: -13.81restarting\n",
      "Episode 25\tAverage Score: -13.64restarting\n",
      "Episode 25\tAverage Score: -13.05restarting\n",
      "Episode 25\tAverage Score: -13.17restarting\n",
      "Episode 25\tAverage Score: -12.42restarting\n",
      "Episode 25\tAverage Score: -13.52restarting\n",
      "Episode 25\tAverage Score: -14.66restarting\n",
      "Episode 25\tAverage Score: -13.16restarting\n",
      "Episode 25\tAverage Score: -14.01restarting\n",
      "Episode 25\tAverage Score: -12.83restarting\n",
      "Episode 25\tAverage Score: -14.43restarting\n",
      "Episode 25\tAverage Score: -13.17restarting\n",
      "Episode 25\tAverage Score: -14.02restarting\n",
      "Episode 25\tAverage Score: -15.09restarting\n",
      "Episode 25\tAverage Score: -16.09restarting\n",
      "Episode 25\tAverage Score: -12.85restarting\n",
      "Episode 25\tAverage Score: -12.77restarting\n",
      "Episode 25\tAverage Score: -13.22restarting\n",
      "Episode 25\tAverage Score: -12.21restarting\n",
      "Episode 25\tAverage Score: -12.30restarting\n",
      "Episode 25\tAverage Score: -13.57restarting\n",
      "Episode 25\tAverage Score: -13.27restarting\n",
      "Episode 25\tAverage Score: -13.77restarting\n",
      "Episode 25\tAverage Score: -12.09restarting\n",
      "Episode 25\tAverage Score: -13.59restarting\n",
      "Episode 24\tAverage Score: -14.58"
     ]
    }
   ],
   "source": [
    "flag = 0\n",
    "def actor_critic(n_episodes=1000, max_t=300, print_every=100):\n",
    "    flag = 0\n",
    "    scores_deque = deque(maxlen=print_every)\n",
    "    scores = []\n",
    "    for i_episode in range(1, n_episodes+1):\n",
    "        state = env.reset()\n",
    "        agent.reset()\n",
    "        score = 0\n",
    "        for t in range(max_t):\n",
    "            action = agent.act(state)\n",
    "            next_state, reward, done, _ = env.step(action)\n",
    "            if reward >=100:\n",
    "                flag = 1\n",
    "            agent.step(state, action, reward, next_state, done)\n",
    "            state = next_state\n",
    "            score += reward\n",
    "            if done:\n",
    "                break \n",
    "        scores_deque.append(score)\n",
    "        scores.append(score)\n",
    "        print('\\rEpisode {}\\tAverage Score: {:.2f}'.format(i_episode, np.mean(scores_deque)), end=\"\")\n",
    "        torch.save(agent.actor_local.state_dict(), 'checkpoint_actor.pth')\n",
    "        torch.save(agent.critic_local.state_dict(), 'checkpoint_critic.pth')\n",
    "        if i_episode % print_every == 0:\n",
    "            if flag == 0:\n",
    "                return scores,flag\n",
    "            print('\\rEpisode {}\\tAverage Score: {:.2f}'.format(i_episode, np.mean(scores_deque)))\n",
    "            \n",
    "    return scores,flag\n",
    "\n",
    "scores,flag = actor_critic(print_every = 25)\n",
    "while flag == 0:\n",
    "    print(\"restarting\")\n",
    "    agent.reset()\n",
    "    scores,flag = actor_critic(print_every = 25)\n",
    "\n",
    "fig = plt.figure()\n",
    "ax = fig.add_subplot(111)\n",
    "plt.plot(np.arange(1, len(scores)+1), scores)\n",
    "plt.ylabel('Score')\n",
    "plt.xlabel('Episode #')\n",
    "plt.show()"
   ]
  },
  {
   "cell_type": "code",
   "execution_count": null,
   "metadata": {},
   "outputs": [],
   "source": []
  }
 ],
 "metadata": {
  "kernelspec": {
   "display_name": "Python 3",
   "language": "python",
   "name": "python3"
  },
  "language_info": {
   "codemirror_mode": {
    "name": "ipython",
    "version": 3
   },
   "file_extension": ".py",
   "mimetype": "text/x-python",
   "name": "python",
   "nbconvert_exporter": "python",
   "pygments_lexer": "ipython3",
   "version": "3.6.9"
  }
 },
 "nbformat": 4,
 "nbformat_minor": 2
}
